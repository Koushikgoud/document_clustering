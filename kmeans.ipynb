{
  "cells": [
    {
      "cell_type": "markdown",
      "metadata": {
        "id": "view-in-github",
        "colab_type": "text"
      },
      "source": [
        "<a href=\"https://colab.research.google.com/github/Koushikgoud/document_clustering/blob/main/kmeans.ipynb\" target=\"_parent\"><img src=\"https://colab.research.google.com/assets/colab-badge.svg\" alt=\"Open In Colab\"/></a>"
      ]
    },
    {
      "cell_type": "markdown",
      "source": [
        "First, we will import all the python libraries that we need.  \n",
        "\n",
        "*   Data preparation (Pandas, Numpy, Scikit-Learn)\n",
        "*   Decomposition (Principal Component Analysis, PCA)\n",
        "*   Document clustering (KMeans)\n",
        "*   Cluster Optimization (linear_sum_assignment)\n",
        "*   Evaluation metrics (accuracy_score, adjusted_rand_score, normalized_mutual_info_score) \n",
        "*   Visualization (pyplot and t-SNE from sklearn.manifold)\n"
      ],
      "metadata": {
        "id": "nPgQ0i8GUJJX"
      }
    },
    {
      "cell_type": "code",
      "execution_count": null,
      "metadata": {
        "id": "YU_JX2rpCrWg"
      },
      "outputs": [],
      "source": [
        "import pandas as pd\n",
        "import numpy as np\n",
        "from sklearn.preprocessing import StandardScaler\n",
        "%matplotlib inline\n",
        "from sklearn.decomposition import PCA\n",
        "from sklearn.cluster import KMeans\n",
        "from sklearn.metrics import normalized_mutual_info_score as nmi\n",
        "from sklearn.metrics import adjusted_rand_score as ari\n",
        "from sklearn.metrics import accuracy_score as acc\n",
        "from scipy.optimize import linear_sum_assignment\n",
        "from matplotlib import pyplot as plt\n",
        "from sklearn.manifold import TSNE"
      ]
    },
    {
      "cell_type": "markdown",
      "source": [
        "Since we are running on Google Colab, we need to install StellarGraph which is a library that offers several state-of-art algorithms for Graph Machine Learning, contains several graph structured data like the Cora Dataset which we are using in this project. "
      ],
      "metadata": {
        "id": "o3TkhLoCTFNS"
      }
    },
    {
      "cell_type": "markdown",
      "source": [
        "In this step, we are getting our data mapped using os.path.join"
      ],
      "metadata": {
        "id": "G0bAFUp5uM6O"
      }
    },
    {
      "cell_type": "code",
      "execution_count": null,
      "metadata": {
        "id": "QHqOS7ykDyFZ"
      },
      "outputs": [],
      "source": [
        "import sys\n",
        "if 'google.colab' in sys.modules:\n",
        "  %pip install -q stellargraph[demos]==1.0.0rc1\n",
        "from stellargraph.datasets import Cora\n",
        "import os\n",
        "cora = Cora()\n",
        "cora.download()\n",
        "cora_cites_file = os.path.join(cora.base_directory, \"cora.cites\")\n",
        "cora_content_file = os.path.join(cora.base_directory, \"cora.content\")"
      ]
    },
    {
      "cell_type": "markdown",
      "source": [
        "The Cora dataset consists of academic publications as the nodes and the citations between them as the links. \n",
        "If publication A cites publication B, then the graph has an edge from A (source) to B (target) in our cora_cites data. \n",
        "This citation network consists of 5,429 links."
      ],
      "metadata": {
        "id": "f-jxot4Pdf_y"
      }
    },
    {
      "cell_type": "markdown",
      "source": [
        "In this step, pandas reads in the csv"
      ],
      "metadata": {
        "id": "TBOncLt5uWIV"
      }
    },
    {
      "cell_type": "code",
      "execution_count": null,
      "metadata": {
        "colab": {
          "base_uri": "https://localhost:8080/",
          "height": 424
        },
        "id": "f3K6JMNrFGWb",
        "outputId": "6f5983cb-eacb-4245-b58e-85bfe1490db2"
      },
      "outputs": [
        {
          "output_type": "execute_result",
          "data": {
            "text/plain": [
              "      target   source\n",
              "0         35     1033\n",
              "1         35   103482\n",
              "2         35   103515\n",
              "3         35  1050679\n",
              "4         35  1103960\n",
              "...      ...      ...\n",
              "5424  853116    19621\n",
              "5425  853116   853155\n",
              "5426  853118  1140289\n",
              "5427  853155   853118\n",
              "5428  954315  1155073\n",
              "\n",
              "[5429 rows x 2 columns]"
            ],
            "text/html": [
              "\n",
              "  <div id=\"df-030d3991-55dd-4450-bd3d-5373a90007be\">\n",
              "    <div class=\"colab-df-container\">\n",
              "      <div>\n",
              "<style scoped>\n",
              "    .dataframe tbody tr th:only-of-type {\n",
              "        vertical-align: middle;\n",
              "    }\n",
              "\n",
              "    .dataframe tbody tr th {\n",
              "        vertical-align: top;\n",
              "    }\n",
              "\n",
              "    .dataframe thead th {\n",
              "        text-align: right;\n",
              "    }\n",
              "</style>\n",
              "<table border=\"1\" class=\"dataframe\">\n",
              "  <thead>\n",
              "    <tr style=\"text-align: right;\">\n",
              "      <th></th>\n",
              "      <th>target</th>\n",
              "      <th>source</th>\n",
              "    </tr>\n",
              "  </thead>\n",
              "  <tbody>\n",
              "    <tr>\n",
              "      <th>0</th>\n",
              "      <td>35</td>\n",
              "      <td>1033</td>\n",
              "    </tr>\n",
              "    <tr>\n",
              "      <th>1</th>\n",
              "      <td>35</td>\n",
              "      <td>103482</td>\n",
              "    </tr>\n",
              "    <tr>\n",
              "      <th>2</th>\n",
              "      <td>35</td>\n",
              "      <td>103515</td>\n",
              "    </tr>\n",
              "    <tr>\n",
              "      <th>3</th>\n",
              "      <td>35</td>\n",
              "      <td>1050679</td>\n",
              "    </tr>\n",
              "    <tr>\n",
              "      <th>4</th>\n",
              "      <td>35</td>\n",
              "      <td>1103960</td>\n",
              "    </tr>\n",
              "    <tr>\n",
              "      <th>...</th>\n",
              "      <td>...</td>\n",
              "      <td>...</td>\n",
              "    </tr>\n",
              "    <tr>\n",
              "      <th>5424</th>\n",
              "      <td>853116</td>\n",
              "      <td>19621</td>\n",
              "    </tr>\n",
              "    <tr>\n",
              "      <th>5425</th>\n",
              "      <td>853116</td>\n",
              "      <td>853155</td>\n",
              "    </tr>\n",
              "    <tr>\n",
              "      <th>5426</th>\n",
              "      <td>853118</td>\n",
              "      <td>1140289</td>\n",
              "    </tr>\n",
              "    <tr>\n",
              "      <th>5427</th>\n",
              "      <td>853155</td>\n",
              "      <td>853118</td>\n",
              "    </tr>\n",
              "    <tr>\n",
              "      <th>5428</th>\n",
              "      <td>954315</td>\n",
              "      <td>1155073</td>\n",
              "    </tr>\n",
              "  </tbody>\n",
              "</table>\n",
              "<p>5429 rows × 2 columns</p>\n",
              "</div>\n",
              "      <button class=\"colab-df-convert\" onclick=\"convertToInteractive('df-030d3991-55dd-4450-bd3d-5373a90007be')\"\n",
              "              title=\"Convert this dataframe to an interactive table.\"\n",
              "              style=\"display:none;\">\n",
              "        \n",
              "  <svg xmlns=\"http://www.w3.org/2000/svg\" height=\"24px\"viewBox=\"0 0 24 24\"\n",
              "       width=\"24px\">\n",
              "    <path d=\"M0 0h24v24H0V0z\" fill=\"none\"/>\n",
              "    <path d=\"M18.56 5.44l.94 2.06.94-2.06 2.06-.94-2.06-.94-.94-2.06-.94 2.06-2.06.94zm-11 1L8.5 8.5l.94-2.06 2.06-.94-2.06-.94L8.5 2.5l-.94 2.06-2.06.94zm10 10l.94 2.06.94-2.06 2.06-.94-2.06-.94-.94-2.06-.94 2.06-2.06.94z\"/><path d=\"M17.41 7.96l-1.37-1.37c-.4-.4-.92-.59-1.43-.59-.52 0-1.04.2-1.43.59L10.3 9.45l-7.72 7.72c-.78.78-.78 2.05 0 2.83L4 21.41c.39.39.9.59 1.41.59.51 0 1.02-.2 1.41-.59l7.78-7.78 2.81-2.81c.8-.78.8-2.07 0-2.86zM5.41 20L4 18.59l7.72-7.72 1.47 1.35L5.41 20z\"/>\n",
              "  </svg>\n",
              "      </button>\n",
              "      \n",
              "  <style>\n",
              "    .colab-df-container {\n",
              "      display:flex;\n",
              "      flex-wrap:wrap;\n",
              "      gap: 12px;\n",
              "    }\n",
              "\n",
              "    .colab-df-convert {\n",
              "      background-color: #E8F0FE;\n",
              "      border: none;\n",
              "      border-radius: 50%;\n",
              "      cursor: pointer;\n",
              "      display: none;\n",
              "      fill: #1967D2;\n",
              "      height: 32px;\n",
              "      padding: 0 0 0 0;\n",
              "      width: 32px;\n",
              "    }\n",
              "\n",
              "    .colab-df-convert:hover {\n",
              "      background-color: #E2EBFA;\n",
              "      box-shadow: 0px 1px 2px rgba(60, 64, 67, 0.3), 0px 1px 3px 1px rgba(60, 64, 67, 0.15);\n",
              "      fill: #174EA6;\n",
              "    }\n",
              "\n",
              "    [theme=dark] .colab-df-convert {\n",
              "      background-color: #3B4455;\n",
              "      fill: #D2E3FC;\n",
              "    }\n",
              "\n",
              "    [theme=dark] .colab-df-convert:hover {\n",
              "      background-color: #434B5C;\n",
              "      box-shadow: 0px 1px 3px 1px rgba(0, 0, 0, 0.15);\n",
              "      filter: drop-shadow(0px 1px 2px rgba(0, 0, 0, 0.3));\n",
              "      fill: #FFFFFF;\n",
              "    }\n",
              "  </style>\n",
              "\n",
              "      <script>\n",
              "        const buttonEl =\n",
              "          document.querySelector('#df-030d3991-55dd-4450-bd3d-5373a90007be button.colab-df-convert');\n",
              "        buttonEl.style.display =\n",
              "          google.colab.kernel.accessAllowed ? 'block' : 'none';\n",
              "\n",
              "        async function convertToInteractive(key) {\n",
              "          const element = document.querySelector('#df-030d3991-55dd-4450-bd3d-5373a90007be');\n",
              "          const dataTable =\n",
              "            await google.colab.kernel.invokeFunction('convertToInteractive',\n",
              "                                                     [key], {});\n",
              "          if (!dataTable) return;\n",
              "\n",
              "          const docLinkHtml = 'Like what you see? Visit the ' +\n",
              "            '<a target=\"_blank\" href=https://colab.research.google.com/notebooks/data_table.ipynb>data table notebook</a>'\n",
              "            + ' to learn more about interactive tables.';\n",
              "          element.innerHTML = '';\n",
              "          dataTable['output_type'] = 'display_data';\n",
              "          await google.colab.output.renderOutput(dataTable, element);\n",
              "          const docLink = document.createElement('div');\n",
              "          docLink.innerHTML = docLinkHtml;\n",
              "          element.appendChild(docLink);\n",
              "        }\n",
              "      </script>\n",
              "    </div>\n",
              "  </div>\n",
              "  "
            ]
          },
          "metadata": {},
          "execution_count": 54
        }
      ],
      "source": [
        "cora_cites = pd.read_csv(\n",
        "    cora_cites_file,\n",
        "    sep = \"\\t\",\n",
        "    header = None,\n",
        "    names = [\"target\", \"source\"]\n",
        ")\n",
        "cora_cites"
      ]
    },
    {
      "cell_type": "markdown",
      "source": [
        "The Cora dataset consists of 2,708 scientific publications classified into one of seven classes, and our model will learn to predict this subject using KMeans clustering algorithm."
      ],
      "metadata": {
        "id": "L_Ujy10GeEqn"
      }
    },
    {
      "cell_type": "code",
      "execution_count": null,
      "metadata": {
        "colab": {
          "base_uri": "https://localhost:8080/",
          "height": 424
        },
        "id": "20VCfEIzGPQ9",
        "outputId": "caece653-f078-4135-ae77-a47cbadddf8b"
      },
      "outputs": [
        {
          "output_type": "execute_result",
          "data": {
            "text/plain": [
              "           id  w0  w1  w2  w3  w4  w5  w6  w7  w8  ...  w1424  w1425  w1426  \\\n",
              "0       31336   0   0   0   0   0   0   0   0   0  ...      0      0      1   \n",
              "1     1061127   0   0   0   0   0   0   0   0   0  ...      0      1      0   \n",
              "2     1106406   0   0   0   0   0   0   0   0   0  ...      0      0      0   \n",
              "3       13195   0   0   0   0   0   0   0   0   0  ...      0      0      0   \n",
              "4       37879   0   0   0   0   0   0   0   0   0  ...      0      0      0   \n",
              "...       ...  ..  ..  ..  ..  ..  ..  ..  ..  ..  ...    ...    ...    ...   \n",
              "2703  1128975   0   0   0   0   0   0   0   0   0  ...      0      0      0   \n",
              "2704  1128977   0   0   0   0   0   0   0   0   0  ...      0      0      0   \n",
              "2705  1128978   0   0   0   0   0   0   0   0   0  ...      0      0      0   \n",
              "2706   117328   0   0   0   0   1   0   0   0   0  ...      0      0      0   \n",
              "2707    24043   0   0   0   0   0   0   0   0   0  ...      0      0      0   \n",
              "\n",
              "      w1427  w1428  w1429  w1430  w1431  w1432                 subject  \n",
              "0         0      0      0      0      0      0         Neural_Networks  \n",
              "1         0      0      0      0      0      0           Rule_Learning  \n",
              "2         0      0      0      0      0      0  Reinforcement_Learning  \n",
              "3         0      0      0      0      0      0  Reinforcement_Learning  \n",
              "4         0      0      0      0      0      0   Probabilistic_Methods  \n",
              "...     ...    ...    ...    ...    ...    ...                     ...  \n",
              "2703      0      0      0      0      0      0      Genetic_Algorithms  \n",
              "2704      0      0      0      0      0      0      Genetic_Algorithms  \n",
              "2705      0      0      0      0      0      0      Genetic_Algorithms  \n",
              "2706      0      0      0      0      0      0              Case_Based  \n",
              "2707      0      0      0      0      0      0         Neural_Networks  \n",
              "\n",
              "[2708 rows x 1435 columns]"
            ],
            "text/html": [
              "\n",
              "  <div id=\"df-355f6631-f1e5-48b0-a461-62917d125901\">\n",
              "    <div class=\"colab-df-container\">\n",
              "      <div>\n",
              "<style scoped>\n",
              "    .dataframe tbody tr th:only-of-type {\n",
              "        vertical-align: middle;\n",
              "    }\n",
              "\n",
              "    .dataframe tbody tr th {\n",
              "        vertical-align: top;\n",
              "    }\n",
              "\n",
              "    .dataframe thead th {\n",
              "        text-align: right;\n",
              "    }\n",
              "</style>\n",
              "<table border=\"1\" class=\"dataframe\">\n",
              "  <thead>\n",
              "    <tr style=\"text-align: right;\">\n",
              "      <th></th>\n",
              "      <th>id</th>\n",
              "      <th>w0</th>\n",
              "      <th>w1</th>\n",
              "      <th>w2</th>\n",
              "      <th>w3</th>\n",
              "      <th>w4</th>\n",
              "      <th>w5</th>\n",
              "      <th>w6</th>\n",
              "      <th>w7</th>\n",
              "      <th>w8</th>\n",
              "      <th>...</th>\n",
              "      <th>w1424</th>\n",
              "      <th>w1425</th>\n",
              "      <th>w1426</th>\n",
              "      <th>w1427</th>\n",
              "      <th>w1428</th>\n",
              "      <th>w1429</th>\n",
              "      <th>w1430</th>\n",
              "      <th>w1431</th>\n",
              "      <th>w1432</th>\n",
              "      <th>subject</th>\n",
              "    </tr>\n",
              "  </thead>\n",
              "  <tbody>\n",
              "    <tr>\n",
              "      <th>0</th>\n",
              "      <td>31336</td>\n",
              "      <td>0</td>\n",
              "      <td>0</td>\n",
              "      <td>0</td>\n",
              "      <td>0</td>\n",
              "      <td>0</td>\n",
              "      <td>0</td>\n",
              "      <td>0</td>\n",
              "      <td>0</td>\n",
              "      <td>0</td>\n",
              "      <td>...</td>\n",
              "      <td>0</td>\n",
              "      <td>0</td>\n",
              "      <td>1</td>\n",
              "      <td>0</td>\n",
              "      <td>0</td>\n",
              "      <td>0</td>\n",
              "      <td>0</td>\n",
              "      <td>0</td>\n",
              "      <td>0</td>\n",
              "      <td>Neural_Networks</td>\n",
              "    </tr>\n",
              "    <tr>\n",
              "      <th>1</th>\n",
              "      <td>1061127</td>\n",
              "      <td>0</td>\n",
              "      <td>0</td>\n",
              "      <td>0</td>\n",
              "      <td>0</td>\n",
              "      <td>0</td>\n",
              "      <td>0</td>\n",
              "      <td>0</td>\n",
              "      <td>0</td>\n",
              "      <td>0</td>\n",
              "      <td>...</td>\n",
              "      <td>0</td>\n",
              "      <td>1</td>\n",
              "      <td>0</td>\n",
              "      <td>0</td>\n",
              "      <td>0</td>\n",
              "      <td>0</td>\n",
              "      <td>0</td>\n",
              "      <td>0</td>\n",
              "      <td>0</td>\n",
              "      <td>Rule_Learning</td>\n",
              "    </tr>\n",
              "    <tr>\n",
              "      <th>2</th>\n",
              "      <td>1106406</td>\n",
              "      <td>0</td>\n",
              "      <td>0</td>\n",
              "      <td>0</td>\n",
              "      <td>0</td>\n",
              "      <td>0</td>\n",
              "      <td>0</td>\n",
              "      <td>0</td>\n",
              "      <td>0</td>\n",
              "      <td>0</td>\n",
              "      <td>...</td>\n",
              "      <td>0</td>\n",
              "      <td>0</td>\n",
              "      <td>0</td>\n",
              "      <td>0</td>\n",
              "      <td>0</td>\n",
              "      <td>0</td>\n",
              "      <td>0</td>\n",
              "      <td>0</td>\n",
              "      <td>0</td>\n",
              "      <td>Reinforcement_Learning</td>\n",
              "    </tr>\n",
              "    <tr>\n",
              "      <th>3</th>\n",
              "      <td>13195</td>\n",
              "      <td>0</td>\n",
              "      <td>0</td>\n",
              "      <td>0</td>\n",
              "      <td>0</td>\n",
              "      <td>0</td>\n",
              "      <td>0</td>\n",
              "      <td>0</td>\n",
              "      <td>0</td>\n",
              "      <td>0</td>\n",
              "      <td>...</td>\n",
              "      <td>0</td>\n",
              "      <td>0</td>\n",
              "      <td>0</td>\n",
              "      <td>0</td>\n",
              "      <td>0</td>\n",
              "      <td>0</td>\n",
              "      <td>0</td>\n",
              "      <td>0</td>\n",
              "      <td>0</td>\n",
              "      <td>Reinforcement_Learning</td>\n",
              "    </tr>\n",
              "    <tr>\n",
              "      <th>4</th>\n",
              "      <td>37879</td>\n",
              "      <td>0</td>\n",
              "      <td>0</td>\n",
              "      <td>0</td>\n",
              "      <td>0</td>\n",
              "      <td>0</td>\n",
              "      <td>0</td>\n",
              "      <td>0</td>\n",
              "      <td>0</td>\n",
              "      <td>0</td>\n",
              "      <td>...</td>\n",
              "      <td>0</td>\n",
              "      <td>0</td>\n",
              "      <td>0</td>\n",
              "      <td>0</td>\n",
              "      <td>0</td>\n",
              "      <td>0</td>\n",
              "      <td>0</td>\n",
              "      <td>0</td>\n",
              "      <td>0</td>\n",
              "      <td>Probabilistic_Methods</td>\n",
              "    </tr>\n",
              "    <tr>\n",
              "      <th>...</th>\n",
              "      <td>...</td>\n",
              "      <td>...</td>\n",
              "      <td>...</td>\n",
              "      <td>...</td>\n",
              "      <td>...</td>\n",
              "      <td>...</td>\n",
              "      <td>...</td>\n",
              "      <td>...</td>\n",
              "      <td>...</td>\n",
              "      <td>...</td>\n",
              "      <td>...</td>\n",
              "      <td>...</td>\n",
              "      <td>...</td>\n",
              "      <td>...</td>\n",
              "      <td>...</td>\n",
              "      <td>...</td>\n",
              "      <td>...</td>\n",
              "      <td>...</td>\n",
              "      <td>...</td>\n",
              "      <td>...</td>\n",
              "      <td>...</td>\n",
              "    </tr>\n",
              "    <tr>\n",
              "      <th>2703</th>\n",
              "      <td>1128975</td>\n",
              "      <td>0</td>\n",
              "      <td>0</td>\n",
              "      <td>0</td>\n",
              "      <td>0</td>\n",
              "      <td>0</td>\n",
              "      <td>0</td>\n",
              "      <td>0</td>\n",
              "      <td>0</td>\n",
              "      <td>0</td>\n",
              "      <td>...</td>\n",
              "      <td>0</td>\n",
              "      <td>0</td>\n",
              "      <td>0</td>\n",
              "      <td>0</td>\n",
              "      <td>0</td>\n",
              "      <td>0</td>\n",
              "      <td>0</td>\n",
              "      <td>0</td>\n",
              "      <td>0</td>\n",
              "      <td>Genetic_Algorithms</td>\n",
              "    </tr>\n",
              "    <tr>\n",
              "      <th>2704</th>\n",
              "      <td>1128977</td>\n",
              "      <td>0</td>\n",
              "      <td>0</td>\n",
              "      <td>0</td>\n",
              "      <td>0</td>\n",
              "      <td>0</td>\n",
              "      <td>0</td>\n",
              "      <td>0</td>\n",
              "      <td>0</td>\n",
              "      <td>0</td>\n",
              "      <td>...</td>\n",
              "      <td>0</td>\n",
              "      <td>0</td>\n",
              "      <td>0</td>\n",
              "      <td>0</td>\n",
              "      <td>0</td>\n",
              "      <td>0</td>\n",
              "      <td>0</td>\n",
              "      <td>0</td>\n",
              "      <td>0</td>\n",
              "      <td>Genetic_Algorithms</td>\n",
              "    </tr>\n",
              "    <tr>\n",
              "      <th>2705</th>\n",
              "      <td>1128978</td>\n",
              "      <td>0</td>\n",
              "      <td>0</td>\n",
              "      <td>0</td>\n",
              "      <td>0</td>\n",
              "      <td>0</td>\n",
              "      <td>0</td>\n",
              "      <td>0</td>\n",
              "      <td>0</td>\n",
              "      <td>0</td>\n",
              "      <td>...</td>\n",
              "      <td>0</td>\n",
              "      <td>0</td>\n",
              "      <td>0</td>\n",
              "      <td>0</td>\n",
              "      <td>0</td>\n",
              "      <td>0</td>\n",
              "      <td>0</td>\n",
              "      <td>0</td>\n",
              "      <td>0</td>\n",
              "      <td>Genetic_Algorithms</td>\n",
              "    </tr>\n",
              "    <tr>\n",
              "      <th>2706</th>\n",
              "      <td>117328</td>\n",
              "      <td>0</td>\n",
              "      <td>0</td>\n",
              "      <td>0</td>\n",
              "      <td>0</td>\n",
              "      <td>1</td>\n",
              "      <td>0</td>\n",
              "      <td>0</td>\n",
              "      <td>0</td>\n",
              "      <td>0</td>\n",
              "      <td>...</td>\n",
              "      <td>0</td>\n",
              "      <td>0</td>\n",
              "      <td>0</td>\n",
              "      <td>0</td>\n",
              "      <td>0</td>\n",
              "      <td>0</td>\n",
              "      <td>0</td>\n",
              "      <td>0</td>\n",
              "      <td>0</td>\n",
              "      <td>Case_Based</td>\n",
              "    </tr>\n",
              "    <tr>\n",
              "      <th>2707</th>\n",
              "      <td>24043</td>\n",
              "      <td>0</td>\n",
              "      <td>0</td>\n",
              "      <td>0</td>\n",
              "      <td>0</td>\n",
              "      <td>0</td>\n",
              "      <td>0</td>\n",
              "      <td>0</td>\n",
              "      <td>0</td>\n",
              "      <td>0</td>\n",
              "      <td>...</td>\n",
              "      <td>0</td>\n",
              "      <td>0</td>\n",
              "      <td>0</td>\n",
              "      <td>0</td>\n",
              "      <td>0</td>\n",
              "      <td>0</td>\n",
              "      <td>0</td>\n",
              "      <td>0</td>\n",
              "      <td>0</td>\n",
              "      <td>Neural_Networks</td>\n",
              "    </tr>\n",
              "  </tbody>\n",
              "</table>\n",
              "<p>2708 rows × 1435 columns</p>\n",
              "</div>\n",
              "      <button class=\"colab-df-convert\" onclick=\"convertToInteractive('df-355f6631-f1e5-48b0-a461-62917d125901')\"\n",
              "              title=\"Convert this dataframe to an interactive table.\"\n",
              "              style=\"display:none;\">\n",
              "        \n",
              "  <svg xmlns=\"http://www.w3.org/2000/svg\" height=\"24px\"viewBox=\"0 0 24 24\"\n",
              "       width=\"24px\">\n",
              "    <path d=\"M0 0h24v24H0V0z\" fill=\"none\"/>\n",
              "    <path d=\"M18.56 5.44l.94 2.06.94-2.06 2.06-.94-2.06-.94-.94-2.06-.94 2.06-2.06.94zm-11 1L8.5 8.5l.94-2.06 2.06-.94-2.06-.94L8.5 2.5l-.94 2.06-2.06.94zm10 10l.94 2.06.94-2.06 2.06-.94-2.06-.94-.94-2.06-.94 2.06-2.06.94z\"/><path d=\"M17.41 7.96l-1.37-1.37c-.4-.4-.92-.59-1.43-.59-.52 0-1.04.2-1.43.59L10.3 9.45l-7.72 7.72c-.78.78-.78 2.05 0 2.83L4 21.41c.39.39.9.59 1.41.59.51 0 1.02-.2 1.41-.59l7.78-7.78 2.81-2.81c.8-.78.8-2.07 0-2.86zM5.41 20L4 18.59l7.72-7.72 1.47 1.35L5.41 20z\"/>\n",
              "  </svg>\n",
              "      </button>\n",
              "      \n",
              "  <style>\n",
              "    .colab-df-container {\n",
              "      display:flex;\n",
              "      flex-wrap:wrap;\n",
              "      gap: 12px;\n",
              "    }\n",
              "\n",
              "    .colab-df-convert {\n",
              "      background-color: #E8F0FE;\n",
              "      border: none;\n",
              "      border-radius: 50%;\n",
              "      cursor: pointer;\n",
              "      display: none;\n",
              "      fill: #1967D2;\n",
              "      height: 32px;\n",
              "      padding: 0 0 0 0;\n",
              "      width: 32px;\n",
              "    }\n",
              "\n",
              "    .colab-df-convert:hover {\n",
              "      background-color: #E2EBFA;\n",
              "      box-shadow: 0px 1px 2px rgba(60, 64, 67, 0.3), 0px 1px 3px 1px rgba(60, 64, 67, 0.15);\n",
              "      fill: #174EA6;\n",
              "    }\n",
              "\n",
              "    [theme=dark] .colab-df-convert {\n",
              "      background-color: #3B4455;\n",
              "      fill: #D2E3FC;\n",
              "    }\n",
              "\n",
              "    [theme=dark] .colab-df-convert:hover {\n",
              "      background-color: #434B5C;\n",
              "      box-shadow: 0px 1px 3px 1px rgba(0, 0, 0, 0.15);\n",
              "      filter: drop-shadow(0px 1px 2px rgba(0, 0, 0, 0.3));\n",
              "      fill: #FFFFFF;\n",
              "    }\n",
              "  </style>\n",
              "\n",
              "      <script>\n",
              "        const buttonEl =\n",
              "          document.querySelector('#df-355f6631-f1e5-48b0-a461-62917d125901 button.colab-df-convert');\n",
              "        buttonEl.style.display =\n",
              "          google.colab.kernel.accessAllowed ? 'block' : 'none';\n",
              "\n",
              "        async function convertToInteractive(key) {\n",
              "          const element = document.querySelector('#df-355f6631-f1e5-48b0-a461-62917d125901');\n",
              "          const dataTable =\n",
              "            await google.colab.kernel.invokeFunction('convertToInteractive',\n",
              "                                                     [key], {});\n",
              "          if (!dataTable) return;\n",
              "\n",
              "          const docLinkHtml = 'Like what you see? Visit the ' +\n",
              "            '<a target=\"_blank\" href=https://colab.research.google.com/notebooks/data_table.ipynb>data table notebook</a>'\n",
              "            + ' to learn more about interactive tables.';\n",
              "          element.innerHTML = '';\n",
              "          dataTable['output_type'] = 'display_data';\n",
              "          await google.colab.output.renderOutput(dataTable, element);\n",
              "          const docLink = document.createElement('div');\n",
              "          docLink.innerHTML = docLinkHtml;\n",
              "          element.appendChild(docLink);\n",
              "        }\n",
              "      </script>\n",
              "    </div>\n",
              "  </div>\n",
              "  "
            ]
          },
          "metadata": {},
          "execution_count": 55
        }
      ],
      "source": [
        "cora_feature_names = [f\"w{i}\" for i in range(1433)]\n",
        "cora_raw_content = pd.read_csv(\n",
        "    cora_content_file,\n",
        "    sep=\"\\t\",\n",
        "    header = None,\n",
        "    names = [\"id\", *cora_feature_names, \"subject\"]\n",
        ")\n",
        "cora_raw_content"
      ]
    },
    {
      "cell_type": "markdown",
      "source": [
        "Using `value_counts()` method to display class distribution of all the nodes present in the cora dataset. This will be the ground truth using which we evaluate the accuracy of our model."
      ],
      "metadata": {
        "id": "synDTObvARx9"
      }
    },
    {
      "cell_type": "code",
      "source": [
        "class_distribution = cora_raw_content['subject'].value_counts()\n",
        "class_distribution"
      ],
      "metadata": {
        "colab": {
          "base_uri": "https://localhost:8080/"
        },
        "id": "_1yHQqtqhuxJ",
        "outputId": "a3512c81-c1f8-4e22-eeb3-460daf9b0383"
      },
      "execution_count": null,
      "outputs": [
        {
          "output_type": "execute_result",
          "data": {
            "text/plain": [
              "Neural_Networks           818\n",
              "Probabilistic_Methods     426\n",
              "Genetic_Algorithms        418\n",
              "Theory                    351\n",
              "Case_Based                298\n",
              "Reinforcement_Learning    217\n",
              "Rule_Learning             180\n",
              "Name: subject, dtype: int64"
            ]
          },
          "metadata": {},
          "execution_count": 56
        }
      ]
    },
    {
      "cell_type": "markdown",
      "source": [
        "Using pyplot to represent the class distribution as an histogram "
      ],
      "metadata": {
        "id": "eYqywWtiii4N"
      }
    },
    {
      "cell_type": "code",
      "execution_count": null,
      "metadata": {
        "colab": {
          "base_uri": "https://localhost:8080/",
          "height": 477
        },
        "id": "LiBPBlNOS0hw",
        "outputId": "d197e984-c636-4e4d-ad70-35ef069dea9a"
      },
      "outputs": [
        {
          "output_type": "execute_result",
          "data": {
            "text/plain": [
              "Text(0, 0.5, 'Frequency')"
            ]
          },
          "metadata": {},
          "execution_count": 57
        },
        {
          "output_type": "display_data",
          "data": {
            "text/plain": [
              "<Figure size 1080x504 with 1 Axes>"
            ],
            "image/png": "[encoded data removed]"
          },
          "metadata": {
            "needs_background": "light"
          }
        }
      ],
      "source": [
        "fig = plt.figure(figsize = (15,7))\n",
        "ax = fig.gca()\n",
        "plt.hist(cora_raw_content['subject'], edgecolor='black', bins='auto')\n",
        "plt.title(\"Class Frequency Distribution of Nodes\")\n",
        "plt.xlabel(\"Class\")\n",
        "plt.ylabel(\"Frequency\")"
      ]
    },
    {
      "cell_type": "markdown",
      "source": [
        "Moving id to be index of this dataframe"
      ],
      "metadata": {
        "id": "ts1EDVxJATTX"
      }
    },
    {
      "cell_type": "code",
      "execution_count": null,
      "metadata": {
        "id": "QvZtAMpvaQn8"
      },
      "outputs": [],
      "source": [
        "cora_content_str_subject = cora_raw_content.set_index(\"id\")"
      ]
    },
    {
      "cell_type": "markdown",
      "source": [
        "Creating a new dataframe by dropping the subject column so we can decompose and apply KMeans. "
      ],
      "metadata": {
        "id": "aju0Th-dAWpK"
      }
    },
    {
      "cell_type": "code",
      "execution_count": null,
      "metadata": {
        "colab": {
          "base_uri": "https://localhost:8080/",
          "height": 455
        },
        "id": "nGcCXeb2W3O2",
        "outputId": "e29e0c7c-bb5f-452c-ef6e-4b7637d578cf"
      },
      "outputs": [
        {
          "output_type": "execute_result",
          "data": {
            "text/plain": [
              "         w0  w1  w2  w3  w4  w5  w6  w7  w8  w9  ...  w1423  w1424  w1425  \\\n",
              "id                                               ...                        \n",
              "31336     0   0   0   0   0   0   0   0   0   0  ...      0      0      0   \n",
              "1061127   0   0   0   0   0   0   0   0   0   0  ...      0      0      1   \n",
              "1106406   0   0   0   0   0   0   0   0   0   0  ...      0      0      0   \n",
              "13195     0   0   0   0   0   0   0   0   0   0  ...      0      0      0   \n",
              "37879     0   0   0   0   0   0   0   0   0   0  ...      0      0      0   \n",
              "...      ..  ..  ..  ..  ..  ..  ..  ..  ..  ..  ...    ...    ...    ...   \n",
              "1128975   0   0   0   0   0   0   0   0   0   0  ...      0      0      0   \n",
              "1128977   0   0   0   0   0   0   0   0   0   0  ...      0      0      0   \n",
              "1128978   0   0   0   0   0   0   0   0   0   0  ...      0      0      0   \n",
              "117328    0   0   0   0   1   0   0   0   0   0  ...      1      0      0   \n",
              "24043     0   0   0   0   0   0   0   0   0   0  ...      0      0      0   \n",
              "\n",
              "         w1426  w1427  w1428  w1429  w1430  w1431  w1432  \n",
              "id                                                        \n",
              "31336        1      0      0      0      0      0      0  \n",
              "1061127      0      0      0      0      0      0      0  \n",
              "1106406      0      0      0      0      0      0      0  \n",
              "13195        0      0      0      0      0      0      0  \n",
              "37879        0      0      0      0      0      0      0  \n",
              "...        ...    ...    ...    ...    ...    ...    ...  \n",
              "1128975      0      0      0      0      0      0      0  \n",
              "1128977      0      0      0      0      0      0      0  \n",
              "1128978      0      0      0      0      0      0      0  \n",
              "117328       0      0      0      0      0      0      0  \n",
              "24043        0      0      0      0      0      0      0  \n",
              "\n",
              "[2708 rows x 1433 columns]"
            ],
            "text/html": [
              "\n",
              "  <div id=\"df-f94ea87b-9a1e-4102-8940-055208b80bd9\">\n",
              "    <div class=\"colab-df-container\">\n",
              "      <div>\n",
              "<style scoped>\n",
              "    .dataframe tbody tr th:only-of-type {\n",
              "        vertical-align: middle;\n",
              "    }\n",
              "\n",
              "    .dataframe tbody tr th {\n",
              "        vertical-align: top;\n",
              "    }\n",
              "\n",
              "    .dataframe thead th {\n",
              "        text-align: right;\n",
              "    }\n",
              "</style>\n",
              "<table border=\"1\" class=\"dataframe\">\n",
              "  <thead>\n",
              "    <tr style=\"text-align: right;\">\n",
              "      <th></th>\n",
              "      <th>w0</th>\n",
              "      <th>w1</th>\n",
              "      <th>w2</th>\n",
              "      <th>w3</th>\n",
              "      <th>w4</th>\n",
              "      <th>w5</th>\n",
              "      <th>w6</th>\n",
              "      <th>w7</th>\n",
              "      <th>w8</th>\n",
              "      <th>w9</th>\n",
              "      <th>...</th>\n",
              "      <th>w1423</th>\n",
              "      <th>w1424</th>\n",
              "      <th>w1425</th>\n",
              "      <th>w1426</th>\n",
              "      <th>w1427</th>\n",
              "      <th>w1428</th>\n",
              "      <th>w1429</th>\n",
              "      <th>w1430</th>\n",
              "      <th>w1431</th>\n",
              "      <th>w1432</th>\n",
              "    </tr>\n",
              "    <tr>\n",
              "      <th>id</th>\n",
              "      <th></th>\n",
              "      <th></th>\n",
              "      <th></th>\n",
              "      <th></th>\n",
              "      <th></th>\n",
              "      <th></th>\n",
              "      <th></th>\n",
              "      <th></th>\n",
              "      <th></th>\n",
              "      <th></th>\n",
              "      <th></th>\n",
              "      <th></th>\n",
              "      <th></th>\n",
              "      <th></th>\n",
              "      <th></th>\n",
              "      <th></th>\n",
              "      <th></th>\n",
              "      <th></th>\n",
              "      <th></th>\n",
              "      <th></th>\n",
              "      <th></th>\n",
              "    </tr>\n",
              "  </thead>\n",
              "  <tbody>\n",
              "    <tr>\n",
              "      <th>31336</th>\n",
              "      <td>0</td>\n",
              "      <td>0</td>\n",
              "      <td>0</td>\n",
              "      <td>0</td>\n",
              "      <td>0</td>\n",
              "      <td>0</td>\n",
              "      <td>0</td>\n",
              "      <td>0</td>\n",
              "      <td>0</td>\n",
              "      <td>0</td>\n",
              "      <td>...</td>\n",
              "      <td>0</td>\n",
              "      <td>0</td>\n",
              "      <td>0</td>\n",
              "      <td>1</td>\n",
              "      <td>0</td>\n",
              "      <td>0</td>\n",
              "      <td>0</td>\n",
              "      <td>0</td>\n",
              "      <td>0</td>\n",
              "      <td>0</td>\n",
              "    </tr>\n",
              "    <tr>\n",
              "      <th>1061127</th>\n",
              "      <td>0</td>\n",
              "      <td>0</td>\n",
              "      <td>0</td>\n",
              "      <td>0</td>\n",
              "      <td>0</td>\n",
              "      <td>0</td>\n",
              "      <td>0</td>\n",
              "      <td>0</td>\n",
              "      <td>0</td>\n",
              "      <td>0</td>\n",
              "      <td>...</td>\n",
              "      <td>0</td>\n",
              "      <td>0</td>\n",
              "      <td>1</td>\n",
              "      <td>0</td>\n",
              "      <td>0</td>\n",
              "      <td>0</td>\n",
              "      <td>0</td>\n",
              "      <td>0</td>\n",
              "      <td>0</td>\n",
              "      <td>0</td>\n",
              "    </tr>\n",
              "    <tr>\n",
              "      <th>1106406</th>\n",
              "      <td>0</td>\n",
              "      <td>0</td>\n",
              "      <td>0</td>\n",
              "      <td>0</td>\n",
              "      <td>0</td>\n",
              "      <td>0</td>\n",
              "      <td>0</td>\n",
              "      <td>0</td>\n",
              "      <td>0</td>\n",
              "      <td>0</td>\n",
              "      <td>...</td>\n",
              "      <td>0</td>\n",
              "      <td>0</td>\n",
              "      <td>0</td>\n",
              "      <td>0</td>\n",
              "      <td>0</td>\n",
              "      <td>0</td>\n",
              "      <td>0</td>\n",
              "      <td>0</td>\n",
              "      <td>0</td>\n",
              "      <td>0</td>\n",
              "    </tr>\n",
              "    <tr>\n",
              "      <th>13195</th>\n",
              "      <td>0</td>\n",
              "      <td>0</td>\n",
              "      <td>0</td>\n",
              "      <td>0</td>\n",
              "      <td>0</td>\n",
              "      <td>0</td>\n",
              "      <td>0</td>\n",
              "      <td>0</td>\n",
              "      <td>0</td>\n",
              "      <td>0</td>\n",
              "      <td>...</td>\n",
              "      <td>0</td>\n",
              "      <td>0</td>\n",
              "      <td>0</td>\n",
              "      <td>0</td>\n",
              "      <td>0</td>\n",
              "      <td>0</td>\n",
              "      <td>0</td>\n",
              "      <td>0</td>\n",
              "      <td>0</td>\n",
              "      <td>0</td>\n",
              "    </tr>\n",
              "    <tr>\n",
              "      <th>37879</th>\n",
              "      <td>0</td>\n",
              "      <td>0</td>\n",
              "      <td>0</td>\n",
              "      <td>0</td>\n",
              "      <td>0</td>\n",
              "      <td>0</td>\n",
              "      <td>0</td>\n",
              "      <td>0</td>\n",
              "      <td>0</td>\n",
              "      <td>0</td>\n",
              "      <td>...</td>\n",
              "      <td>0</td>\n",
              "      <td>0</td>\n",
              "      <td>0</td>\n",
              "      <td>0</td>\n",
              "      <td>0</td>\n",
              "      <td>0</td>\n",
              "      <td>0</td>\n",
              "      <td>0</td>\n",
              "      <td>0</td>\n",
              "      <td>0</td>\n",
              "    </tr>\n",
              "    <tr>\n",
              "      <th>...</th>\n",
              "      <td>...</td>\n",
              "      <td>...</td>\n",
              "      <td>...</td>\n",
              "      <td>...</td>\n",
              "      <td>...</td>\n",
              "      <td>...</td>\n",
              "      <td>...</td>\n",
              "      <td>...</td>\n",
              "      <td>...</td>\n",
              "      <td>...</td>\n",
              "      <td>...</td>\n",
              "      <td>...</td>\n",
              "      <td>...</td>\n",
              "      <td>...</td>\n",
              "      <td>...</td>\n",
              "      <td>...</td>\n",
              "      <td>...</td>\n",
              "      <td>...</td>\n",
              "      <td>...</td>\n",
              "      <td>...</td>\n",
              "      <td>...</td>\n",
              "    </tr>\n",
              "    <tr>\n",
              "      <th>1128975</th>\n",
              "      <td>0</td>\n",
              "      <td>0</td>\n",
              "      <td>0</td>\n",
              "      <td>0</td>\n",
              "      <td>0</td>\n",
              "      <td>0</td>\n",
              "      <td>0</td>\n",
              "      <td>0</td>\n",
              "      <td>0</td>\n",
              "      <td>0</td>\n",
              "      <td>...</td>\n",
              "      <td>0</td>\n",
              "      <td>0</td>\n",
              "      <td>0</td>\n",
              "      <td>0</td>\n",
              "      <td>0</td>\n",
              "      <td>0</td>\n",
              "      <td>0</td>\n",
              "      <td>0</td>\n",
              "      <td>0</td>\n",
              "      <td>0</td>\n",
              "    </tr>\n",
              "    <tr>\n",
              "      <th>1128977</th>\n",
              "      <td>0</td>\n",
              "      <td>0</td>\n",
              "      <td>0</td>\n",
              "      <td>0</td>\n",
              "      <td>0</td>\n",
              "      <td>0</td>\n",
              "      <td>0</td>\n",
              "      <td>0</td>\n",
              "      <td>0</td>\n",
              "      <td>0</td>\n",
              "      <td>...</td>\n",
              "      <td>0</td>\n",
              "      <td>0</td>\n",
              "      <td>0</td>\n",
              "      <td>0</td>\n",
              "      <td>0</td>\n",
              "      <td>0</td>\n",
              "      <td>0</td>\n",
              "      <td>0</td>\n",
              "      <td>0</td>\n",
              "      <td>0</td>\n",
              "    </tr>\n",
              "    <tr>\n",
              "      <th>1128978</th>\n",
              "      <td>0</td>\n",
              "      <td>0</td>\n",
              "      <td>0</td>\n",
              "      <td>0</td>\n",
              "      <td>0</td>\n",
              "      <td>0</td>\n",
              "      <td>0</td>\n",
              "      <td>0</td>\n",
              "      <td>0</td>\n",
              "      <td>0</td>\n",
              "      <td>...</td>\n",
              "      <td>0</td>\n",
              "      <td>0</td>\n",
              "      <td>0</td>\n",
              "      <td>0</td>\n",
              "      <td>0</td>\n",
              "      <td>0</td>\n",
              "      <td>0</td>\n",
              "      <td>0</td>\n",
              "      <td>0</td>\n",
              "      <td>0</td>\n",
              "    </tr>\n",
              "    <tr>\n",
              "      <th>117328</th>\n",
              "      <td>0</td>\n",
              "      <td>0</td>\n",
              "      <td>0</td>\n",
              "      <td>0</td>\n",
              "      <td>1</td>\n",
              "      <td>0</td>\n",
              "      <td>0</td>\n",
              "      <td>0</td>\n",
              "      <td>0</td>\n",
              "      <td>0</td>\n",
              "      <td>...</td>\n",
              "      <td>1</td>\n",
              "      <td>0</td>\n",
              "      <td>0</td>\n",
              "      <td>0</td>\n",
              "      <td>0</td>\n",
              "      <td>0</td>\n",
              "      <td>0</td>\n",
              "      <td>0</td>\n",
              "      <td>0</td>\n",
              "      <td>0</td>\n",
              "    </tr>\n",
              "    <tr>\n",
              "      <th>24043</th>\n",
              "      <td>0</td>\n",
              "      <td>0</td>\n",
              "      <td>0</td>\n",
              "      <td>0</td>\n",
              "      <td>0</td>\n",
              "      <td>0</td>\n",
              "      <td>0</td>\n",
              "      <td>0</td>\n",
              "      <td>0</td>\n",
              "      <td>0</td>\n",
              "      <td>...</td>\n",
              "      <td>0</td>\n",
              "      <td>0</td>\n",
              "      <td>0</td>\n",
              "      <td>0</td>\n",
              "      <td>0</td>\n",
              "      <td>0</td>\n",
              "      <td>0</td>\n",
              "      <td>0</td>\n",
              "      <td>0</td>\n",
              "      <td>0</td>\n",
              "    </tr>\n",
              "  </tbody>\n",
              "</table>\n",
              "<p>2708 rows × 1433 columns</p>\n",
              "</div>\n",
              "      <button class=\"colab-df-convert\" onclick=\"convertToInteractive('df-f94ea87b-9a1e-4102-8940-055208b80bd9')\"\n",
              "              title=\"Convert this dataframe to an interactive table.\"\n",
              "              style=\"display:none;\">\n",
              "        \n",
              "  <svg xmlns=\"http://www.w3.org/2000/svg\" height=\"24px\"viewBox=\"0 0 24 24\"\n",
              "       width=\"24px\">\n",
              "    <path d=\"M0 0h24v24H0V0z\" fill=\"none\"/>\n",
              "    <path d=\"M18.56 5.44l.94 2.06.94-2.06 2.06-.94-2.06-.94-.94-2.06-.94 2.06-2.06.94zm-11 1L8.5 8.5l.94-2.06 2.06-.94-2.06-.94L8.5 2.5l-.94 2.06-2.06.94zm10 10l.94 2.06.94-2.06 2.06-.94-2.06-.94-.94-2.06-.94 2.06-2.06.94z\"/><path d=\"M17.41 7.96l-1.37-1.37c-.4-.4-.92-.59-1.43-.59-.52 0-1.04.2-1.43.59L10.3 9.45l-7.72 7.72c-.78.78-.78 2.05 0 2.83L4 21.41c.39.39.9.59 1.41.59.51 0 1.02-.2 1.41-.59l7.78-7.78 2.81-2.81c.8-.78.8-2.07 0-2.86zM5.41 20L4 18.59l7.72-7.72 1.47 1.35L5.41 20z\"/>\n",
              "  </svg>\n",
              "      </button>\n",
              "      \n",
              "  <style>\n",
              "    .colab-df-container {\n",
              "      display:flex;\n",
              "      flex-wrap:wrap;\n",
              "      gap: 12px;\n",
              "    }\n",
              "\n",
              "    .colab-df-convert {\n",
              "      background-color: #E8F0FE;\n",
              "      border: none;\n",
              "      border-radius: 50%;\n",
              "      cursor: pointer;\n",
              "      display: none;\n",
              "      fill: #1967D2;\n",
              "      height: 32px;\n",
              "      padding: 0 0 0 0;\n",
              "      width: 32px;\n",
              "    }\n",
              "\n",
              "    .colab-df-convert:hover {\n",
              "      background-color: #E2EBFA;\n",
              "      box-shadow: 0px 1px 2px rgba(60, 64, 67, 0.3), 0px 1px 3px 1px rgba(60, 64, 67, 0.15);\n",
              "      fill: #174EA6;\n",
              "    }\n",
              "\n",
              "    [theme=dark] .colab-df-convert {\n",
              "      background-color: #3B4455;\n",
              "      fill: #D2E3FC;\n",
              "    }\n",
              "\n",
              "    [theme=dark] .colab-df-convert:hover {\n",
              "      background-color: #434B5C;\n",
              "      box-shadow: 0px 1px 3px 1px rgba(0, 0, 0, 0.15);\n",
              "      filter: drop-shadow(0px 1px 2px rgba(0, 0, 0, 0.3));\n",
              "      fill: #FFFFFF;\n",
              "    }\n",
              "  </style>\n",
              "\n",
              "      <script>\n",
              "        const buttonEl =\n",
              "          document.querySelector('#df-f94ea87b-9a1e-4102-8940-055208b80bd9 button.colab-df-convert');\n",
              "        buttonEl.style.display =\n",
              "          google.colab.kernel.accessAllowed ? 'block' : 'none';\n",
              "\n",
              "        async function convertToInteractive(key) {\n",
              "          const element = document.querySelector('#df-f94ea87b-9a1e-4102-8940-055208b80bd9');\n",
              "          const dataTable =\n",
              "            await google.colab.kernel.invokeFunction('convertToInteractive',\n",
              "                                                     [key], {});\n",
              "          if (!dataTable) return;\n",
              "\n",
              "          const docLinkHtml = 'Like what you see? Visit the ' +\n",
              "            '<a target=\"_blank\" href=https://colab.research.google.com/notebooks/data_table.ipynb>data table notebook</a>'\n",
              "            + ' to learn more about interactive tables.';\n",
              "          element.innerHTML = '';\n",
              "          dataTable['output_type'] = 'display_data';\n",
              "          await google.colab.output.renderOutput(dataTable, element);\n",
              "          const docLink = document.createElement('div');\n",
              "          docLink.innerHTML = docLinkHtml;\n",
              "          element.appendChild(docLink);\n",
              "        }\n",
              "      </script>\n",
              "    </div>\n",
              "  </div>\n",
              "  "
            ]
          },
          "metadata": {},
          "execution_count": 59
        }
      ],
      "source": [
        "cora_content_no_subject = cora_content_str_subject.drop(columns=\"subject\")\n",
        "cora_content_no_subject"
      ]
    },
    {
      "cell_type": "markdown",
      "source": [
        "Scaling the dataset in an essential step before applying algorithms to the data. This is because in most of the cases, features in the dataset are of various value ranges, leading the algorithm to give highest priority to the feature with highest value range especially in cases where distance plays a major role like KMeans (uses euclidean distance by default), KNN, PCA algorithms. \n"
      ],
      "metadata": {
        "id": "YQtofPgoAdIA"
      }
    },
    {
      "cell_type": "markdown",
      "source": [
        "Here, we are using one of the scaling methods called StandardScaler from sklearn.preprocessing module. \n",
        "StandardScaler follows Standard Normal Distribution (SND) i.e.., it makes\n",
        "1.   Mean = 0\n",
        "2.   Standard Deviation = 1"
      ],
      "metadata": {
        "id": "uCOjn9xatKrW"
      }
    },
    {
      "cell_type": "markdown",
      "source": [
        "\n",
        "Z = (X - Mean) / Standard Deviation\n",
        "\n"
      ],
      "metadata": {
        "id": "zEtMeLStr_GE"
      }
    },
    {
      "cell_type": "code",
      "execution_count": null,
      "metadata": {
        "colab": {
          "base_uri": "https://localhost:8080/"
        },
        "id": "yoznOonTdgRK",
        "outputId": "433efd89-d172-4967-9501-0347e4c02f19"
      },
      "outputs": [
        {
          "output_type": "execute_result",
          "data": {
            "text/plain": [
              "array([[-0.07709433, -0.11106957, -0.16289645, ..., -0.047123  ,\n",
              "        -0.1568224 , -0.0667161 ],\n",
              "       [-0.07709433, -0.11106957, -0.16289645, ..., -0.047123  ,\n",
              "        -0.1568224 , -0.0667161 ],\n",
              "       [-0.07709433, -0.11106957, -0.16289645, ..., -0.047123  ,\n",
              "        -0.1568224 , -0.0667161 ],\n",
              "       ...,\n",
              "       [-0.07709433, -0.11106957, -0.16289645, ..., -0.047123  ,\n",
              "        -0.1568224 , -0.0667161 ],\n",
              "       [-0.07709433, -0.11106957, -0.16289645, ..., -0.047123  ,\n",
              "        -0.1568224 , -0.0667161 ],\n",
              "       [-0.07709433, -0.11106957, -0.16289645, ..., -0.047123  ,\n",
              "        -0.1568224 , -0.0667161 ]])"
            ]
          },
          "metadata": {},
          "execution_count": 60
        }
      ],
      "source": [
        "scaler = StandardScaler()\n",
        "cora_content_no_subject = scaler.fit_transform(cora_content_no_subject)\n",
        "cora_content_no_subject"
      ]
    },
    {
      "cell_type": "markdown",
      "source": [
        "Principal Component Analysis (PCA) is a dimensionality reduction technique.  PCA follows 'Feature Extraction' methodology where we create 'n' (`n_components = n`) new independent variables where each “new” independent variable is a combination of all of the “old” independent variables in a specific way and order these new variables by how well they predict our dependent variable. Due to this combination of old variables, we keep most of the valuable information even when we reduce the dimesion of the given data."
      ],
      "metadata": {
        "id": "HLp1eKRb03j_"
      }
    },
    {
      "cell_type": "markdown",
      "source": [
        "In simple terms, PCA combines our input variables in a specific way, such that we can drop the least important variables from large datasets alongside retaining the most valuable information from all the variables. We use PCA from sklearn.decomposition module and do pca analyses for all 1433 features."
      ],
      "metadata": {
        "id": "BBWQi7hJ24ow"
      }
    },
    {
      "cell_type": "code",
      "execution_count": null,
      "metadata": {
        "id": "zcJ04BlqZZyi"
      },
      "outputs": [],
      "source": [
        "pca = PCA()\n",
        "pca = PCA(n_components = 1433)"
      ]
    },
    {
      "cell_type": "code",
      "execution_count": null,
      "metadata": {
        "id": "BDqNcnjW8thj",
        "colab": {
          "base_uri": "https://localhost:8080/"
        },
        "outputId": "8f8ada4f-e600-436d-d93c-a326178ea137"
      },
      "outputs": [
        {
          "output_type": "execute_result",
          "data": {
            "text/plain": [
              "array([[ 3.13014598e+00,  1.62467727e+00, -1.26240612e-01, ...,\n",
              "         7.89575796e-02,  1.64822701e-15, -6.72680027e-16],\n",
              "       [-8.64535106e-01,  2.00320077e-01, -1.09679141e+00, ...,\n",
              "         3.74494540e-02,  2.21425306e-15,  3.76923803e-16],\n",
              "       [-3.16862778e+00,  1.89351957e+00, -5.70641877e-01, ...,\n",
              "        -9.51332032e-02, -1.26051603e-15,  7.41645153e-16],\n",
              "       ...,\n",
              "       [-8.46379808e-01, -1.46590547e+00, -8.92057620e-01, ...,\n",
              "         1.15911901e-01,  1.05034568e-15,  2.03955426e-16],\n",
              "       [-1.32274123e+00,  5.33918933e-01, -2.09074418e-01, ...,\n",
              "         6.80565496e-02,  6.89954255e-16,  2.80380898e-16],\n",
              "       [-2.02790536e+00,  2.24628181e+00,  5.77554347e+00, ...,\n",
              "        -6.77030375e-02, -3.20573622e-15, -1.24039981e-16]])"
            ]
          },
          "metadata": {},
          "execution_count": 62
        }
      ],
      "source": [
        "pca.fit(cora_content_no_subject)\n",
        "scores_pca = pca.transform(cora_content_no_subject)\n",
        "scores_pca"
      ]
    },
    {
      "cell_type": "markdown",
      "source": [
        "Setting up Kmeans to work off 7 classes, using the 'k-means++' initialization methdology"
      ],
      "metadata": {
        "id": "2qy0MxWHAwYl"
      }
    },
    {
      "cell_type": "markdown",
      "source": [
        "KMeans is a hard clustering (where each node belongs to only one cluster) algorithm that partitions the given dataset into 'k' (`n_clusters = k`) pre-determined clusters. Kmeans makes nodes in each cluster to be as similar as possible to each other and as different as possible from nodes in other clusters.\n"
      ],
      "metadata": {
        "id": "uiwHEiP74kC4"
      }
    },
    {
      "cell_type": "markdown",
      "source": [
        "One of the most important parts of this algorithm is init i.e.., type of initialization and in our project we are using 'k-means++' initialization technique. In this method, the main strategy is to choose the centroids as far apart from each other as possible. In our case, 'k-means++' does better clustering than 'random' initialization of centroids.\n"
      ],
      "metadata": {
        "id": "RBpKpTZV7Lz5"
      }
    },
    {
      "cell_type": "markdown",
      "source": [
        "As we know, kmeans algorithm follows a stochastic process (output may vary each time you run the program irrespective of the fact that the input remains same), 'random_state' helps in generating reproducible results rather than random results each time. This is done by selecting same k centroids each time you specify the same value for random_state parameter. Due to this reason, one of the suggested practices is to rerun by using different 'random_state' values and keep the best result.\n",
        "In our project,\n",
        "*   `random_state = 219` gives accuracy of 40.01%\n",
        "*   `random_state = 220` gives accuracy of 45.2%\n",
        "\n"
      ],
      "metadata": {
        "id": "sgQccRd-9MLg"
      }
    },
    {
      "cell_type": "markdown",
      "source": [
        "Higher the verbose value, higher the logging output (Max = 10). This gives you an insight into what is actually happening behind the scenes but you can set this to 0 (`verbose = 0`) when there is no need for debugging."
      ],
      "metadata": {
        "id": "9kpv6lppAQrC"
      }
    },
    {
      "cell_type": "code",
      "execution_count": null,
      "metadata": {
        "id": "YMkKXgRVCfZp",
        "colab": {
          "base_uri": "https://localhost:8080/"
        },
        "outputId": "1157ba10-2247-4e9c-c7e9-69a8294c3dbb"
      },
      "outputs": [
        {
          "output_type": "stream",
          "name": "stdout",
          "text": [
            "Initialization complete\n",
            "Iteration 0, inertia 3971561.518384847\n",
            "Iteration 1, inertia 3857979.8948436826\n",
            "Iteration 2, inertia 3857519.309538471\n",
            "Converged at iteration 2: strict convergence.\n",
            "Initialization complete\n",
            "Iteration 0, inertia 4536525.988580609\n",
            "Iteration 1, inertia 3857457.7375994427\n",
            "Iteration 2, inertia 3856722.3580711987\n",
            "Iteration 3, inertia 3855905.2883832157\n",
            "Iteration 4, inertia 3855291.0614211247\n",
            "Converged at iteration 4: strict convergence.\n",
            "Initialization complete\n",
            "Iteration 0, inertia 4632462.755717413\n",
            "Iteration 1, inertia 3860757.8630294413\n",
            "Iteration 2, inertia 3860139.756165159\n",
            "Iteration 3, inertia 3860010.971386076\n",
            "Converged at iteration 3: strict convergence.\n",
            "Initialization complete\n",
            "Iteration 0, inertia 5251295.775794977\n",
            "Iteration 1, inertia 3856021.53094126\n",
            "Iteration 2, inertia 3852081.331934463\n",
            "Iteration 3, inertia 3850355.259712428\n",
            "Iteration 4, inertia 3850258.346777281\n",
            "Converged at iteration 4: strict convergence.\n",
            "Initialization complete\n",
            "Iteration 0, inertia 4764844.709928832\n",
            "Iteration 1, inertia 3856286.181327547\n",
            "Iteration 2, inertia 3854112.2536901445\n",
            "Iteration 3, inertia 3852261.0429910365\n",
            "Iteration 4, inertia 3851212.4551481586\n",
            "Iteration 5, inertia 3850825.1754756724\n",
            "Iteration 6, inertia 3850610.804375264\n",
            "Iteration 7, inertia 3850510.7588454746\n",
            "Iteration 8, inertia 3850439.8106205966\n",
            "Iteration 9, inertia 3850397.9692451153\n",
            "Iteration 10, inertia 3850344.384294764\n",
            "Iteration 11, inertia 3850331.819694314\n",
            "Converged at iteration 11: strict convergence.\n",
            "Initialization complete\n",
            "Iteration 0, inertia 4849613.414968554\n",
            "Iteration 1, inertia 3859208.756175288\n",
            "Iteration 2, inertia 3858865.16681496\n",
            "Iteration 3, inertia 3858281.9242660096\n",
            "Iteration 4, inertia 3858026.1011018036\n",
            "Iteration 5, inertia 3857945.6048673373\n",
            "Iteration 6, inertia 3857892.8095088894\n",
            "Converged at iteration 6: strict convergence.\n",
            "Initialization complete\n",
            "Iteration 0, inertia 4611899.8342939615\n",
            "Iteration 1, inertia 3863439.09118762\n",
            "Converged at iteration 1: strict convergence.\n",
            "Initialization complete\n",
            "Iteration 0, inertia 4479808.825144166\n",
            "Iteration 1, inertia 3862168.448814346\n",
            "Converged at iteration 1: strict convergence.\n",
            "Initialization complete\n",
            "Iteration 0, inertia 4629305.760058606\n",
            "Iteration 1, inertia 3863294.5754530043\n",
            "Iteration 2, inertia 3862149.928735958\n",
            "Iteration 3, inertia 3860708.0436741845\n",
            "Iteration 4, inertia 3859835.4927677847\n",
            "Iteration 5, inertia 3859543.0894016116\n",
            "Iteration 6, inertia 3859485.722566948\n",
            "Converged at iteration 6: strict convergence.\n",
            "Initialization complete\n",
            "Iteration 0, inertia 6206979.75570328\n",
            "Iteration 1, inertia 3849568.7199128047\n",
            "Iteration 2, inertia 3846677.4770026873\n",
            "Iteration 3, inertia 3845119.7805139665\n",
            "Iteration 4, inertia 3844026.5073512457\n",
            "Iteration 5, inertia 3843241.479332147\n",
            "Iteration 6, inertia 3842538.3490846\n",
            "Iteration 7, inertia 3841954.45059531\n",
            "Iteration 8, inertia 3841450.773824121\n",
            "Iteration 9, inertia 3841076.4996699467\n",
            "Iteration 10, inertia 3840705.5829091016\n",
            "Iteration 11, inertia 3840427.7323652087\n",
            "Iteration 12, inertia 3840177.3819597634\n",
            "Iteration 13, inertia 3840053.470225426\n",
            "Iteration 14, inertia 3839961.7239531185\n",
            "Iteration 15, inertia 3839950.5991510185\n",
            "Iteration 16, inertia 3839945.436673639\n",
            "Iteration 17, inertia 3839915.628548334\n",
            "Iteration 18, inertia 3839890.4927323973\n",
            "Iteration 19, inertia 3839887.409871257\n",
            "Converged at iteration 19: strict convergence.\n"
          ]
        },
        {
          "output_type": "execute_result",
          "data": {
            "text/plain": [
              "KMeans(n_clusters=7, random_state=220, verbose=10)"
            ]
          },
          "metadata": {},
          "execution_count": 63
        }
      ],
      "source": [
        "kmeans_pca = KMeans(n_clusters = 7, init = \"k-means++\", random_state = 220, verbose = 10)\n",
        "kmeans_pca.fit(scores_pca)\n",
        "kmeans_pca"
      ]
    },
    {
      "cell_type": "markdown",
      "source": [
        "Generating the kmeans cluster label values to analyze them "
      ],
      "metadata": {
        "id": "kaTvNnvKA-jJ"
      }
    },
    {
      "cell_type": "code",
      "execution_count": null,
      "metadata": {
        "id": "EFBsKY9nEvfc",
        "colab": {
          "base_uri": "https://localhost:8080/"
        },
        "outputId": "a9b0a025-bd80-46c8-90fe-85abef514e81"
      },
      "outputs": [
        {
          "output_type": "execute_result",
          "data": {
            "text/plain": [
              "array([2, 2, 1, ..., 1, 2, 2], dtype=int32)"
            ]
          },
          "metadata": {},
          "execution_count": 64
        }
      ],
      "source": [
        "kmeans_labels = kmeans_pca.labels_\n",
        "kmeans_labels"
      ]
    },
    {
      "cell_type": "markdown",
      "source": [
        "Verify whether the data is accurately clustered based on 'k' value."
      ],
      "metadata": {
        "id": "JkWlCdEZEuxU"
      }
    },
    {
      "cell_type": "code",
      "execution_count": null,
      "metadata": {
        "id": "rCF4SqauKj6L",
        "colab": {
          "base_uri": "https://localhost:8080/"
        },
        "outputId": "ee10c6b4-b669-4023-d3a2-336b9478ea17"
      },
      "outputs": [
        {
          "output_type": "execute_result",
          "data": {
            "text/plain": [
              "array([0, 1, 2, 3, 4, 5, 6], dtype=int32)"
            ]
          },
          "metadata": {},
          "execution_count": 65
        }
      ],
      "source": [
        "np.unique(kmeans_labels)"
      ]
    },
    {
      "cell_type": "markdown",
      "source": [
        "Descriptive stats on our results based on what cluster they are assigned too"
      ],
      "metadata": {
        "id": "TEoKbsJfBDKt"
      }
    },
    {
      "cell_type": "markdown",
      "source": [
        "Using `value_counts()` method to display class distribution of all the node predictions. This will be the predictions using which we evaluate the accuracy of our model."
      ],
      "metadata": {
        "id": "AD-66pryGV2X"
      }
    },
    {
      "cell_type": "code",
      "execution_count": null,
      "metadata": {
        "id": "04xAPr9cHO5i",
        "colab": {
          "base_uri": "https://localhost:8080/"
        },
        "outputId": "ffbc3cec-b893-4082-c3c7-942be03843e3"
      },
      "outputs": [
        {
          "output_type": "execute_result",
          "data": {
            "text/plain": [
              "Predictions\n",
              "2              1919\n",
              "1               370\n",
              "4               339\n",
              "5                38\n",
              "0                35\n",
              "6                 4\n",
              "3                 3\n",
              "dtype: int64"
            ]
          },
          "metadata": {},
          "execution_count": 66
        }
      ],
      "source": [
        "kmeans_result = pd.DataFrame({\"Predictions\":kmeans_pca.labels_})\n",
        "predictions_distribution = kmeans_result.value_counts()\n",
        "predictions_distribution"
      ]
    },
    {
      "cell_type": "markdown",
      "source": [
        "Using pyplot to represent the prediction class distribution as an histogram "
      ],
      "metadata": {
        "id": "y1-P1yfYHT5P"
      }
    },
    {
      "cell_type": "code",
      "source": [
        "fig = plt.figure(figsize = (15,7))\n",
        "ax = fig.gca()\n",
        "plt.hist(kmeans_result['Predictions'], edgecolor='black', bins='auto')\n",
        "plt.title(\"Class Frequency Distribution of Predictions\")\n",
        "plt.xlabel(\"Class\")\n",
        "plt.ylabel(\"Frequency\")"
      ],
      "metadata": {
        "colab": {
          "base_uri": "https://localhost:8080/",
          "height": 476
        },
        "id": "rWmTUUvmF9Tj",
        "outputId": "6b5f6df1-deaf-4301-f96f-35d3606f5420"
      },
      "execution_count": null,
      "outputs": [
        {
          "output_type": "execute_result",
          "data": {
            "text/plain": [
              "Text(0, 0.5, 'Frequency')"
            ]
          },
          "metadata": {},
          "execution_count": 67
        },
        {
          "output_type": "display_data",
          "data": {
            "text/plain": [
              "<Figure size 1080x504 with 1 Axes>"
            ],
            "image/png": "[encoded data removed]"
          },
          "metadata": {
            "needs_background": "light"
          }
        }
      ]
    },
    {
      "cell_type": "markdown",
      "source": [
        "Mapping our label indexes from predictions with appropriate class in the ground truth."
      ],
      "metadata": {
        "id": "YCCrWS99BJz-"
      }
    },
    {
      "cell_type": "code",
      "execution_count": null,
      "metadata": {
        "id": "s0Zfg3KyMVZX",
        "colab": {
          "base_uri": "https://localhost:8080/"
        },
        "outputId": "870cf176-e8e0-4361-f8cc-e7c0075c5cb5"
      },
      "outputs": [
        {
          "output_type": "execute_result",
          "data": {
            "text/plain": [
              "array([0, 1, 2, ..., 5, 6, 0])"
            ]
          },
          "metadata": {},
          "execution_count": 68
        }
      ],
      "source": [
        "y, y_idx = pd.factorize(cora_content_str_subject[\"subject\"])\n",
        "y"
      ]
    },
    {
      "cell_type": "code",
      "execution_count": null,
      "metadata": {
        "id": "EJIgE38IM9oj",
        "colab": {
          "base_uri": "https://localhost:8080/"
        },
        "outputId": "9dbb7589-95cc-4a1b-c0c6-edb833fd21e9"
      },
      "outputs": [
        {
          "output_type": "execute_result",
          "data": {
            "text/plain": [
              "{'Neural_Networks': 0,\n",
              " 'Rule_Learning': 1,\n",
              " 'Reinforcement_Learning': 2,\n",
              " 'Probabilistic_Methods': 3,\n",
              " 'Theory': 4,\n",
              " 'Genetic_Algorithms': 5,\n",
              " 'Case_Based': 6}"
            ]
          },
          "metadata": {},
          "execution_count": 69
        }
      ],
      "source": [
        "y_mapping = {y_idx[k]: k for k in range(7) }\n",
        "y_mapping"
      ]
    },
    {
      "cell_type": "markdown",
      "source": [
        "Displaying an example of how the predicted cluster has nodes (ground truth) from different classes."
      ],
      "metadata": {
        "id": "ULDdQJbBL7PA"
      }
    },
    {
      "cell_type": "code",
      "execution_count": null,
      "metadata": {
        "id": "hs44kB6mNKGT",
        "colab": {
          "base_uri": "https://localhost:8080/"
        },
        "outputId": "c5d13b09-da51-42df-b0c8-13a0b8276b78"
      },
      "outputs": [
        {
          "output_type": "execute_result",
          "data": {
            "text/plain": [
              "array([2, 2, 2, 2, 2, 2, 2, 2, 2, 2, 2, 2, 2, 2, 2, 2, 2, 2, 1, 2, 2, 2,\n",
              "       2, 2, 2, 2, 2, 4, 2, 2, 2, 2, 2, 2, 2, 2, 2, 0, 2, 2, 2, 2, 2, 2,\n",
              "       2, 2, 4, 2, 2, 2, 2, 2, 2, 2, 2, 2, 2, 2, 2, 2, 2, 2, 2, 2, 2, 2,\n",
              "       2, 2, 2, 2, 2, 2, 2, 2, 2, 2, 2, 2, 2, 2, 4, 2, 2, 2, 2, 2, 2, 2,\n",
              "       2, 2, 2, 2, 4, 2, 2, 2, 2, 2, 2, 2, 2, 2, 2, 2, 2, 2, 2, 2, 2, 2,\n",
              "       2, 2, 2, 2, 2, 2, 4, 2, 2, 2, 2, 2, 2, 2, 2, 2, 2, 2, 4, 2, 2, 4,\n",
              "       2, 2, 2, 2, 2, 2, 4, 2, 2, 2, 2, 2, 2, 2, 2, 2, 2, 1, 2, 2, 2, 2,\n",
              "       2, 2, 2, 2, 2, 2, 2, 2, 2, 2, 2, 2, 2, 4, 2, 2, 2, 2, 2, 2, 2, 4,\n",
              "       2, 2, 2, 2, 2, 2, 2, 4, 4, 2, 2, 2, 2, 2, 2, 2, 4, 2, 2, 2, 2, 2,\n",
              "       2, 2, 2, 2, 2, 2, 2, 2, 2, 2, 2, 2, 2, 2, 2, 2, 2, 2, 2, 2, 2, 2,\n",
              "       2, 2, 4, 2, 2, 2, 2, 2, 5, 2, 2, 1, 2, 2, 2, 2, 2, 2, 2, 2, 4, 2,\n",
              "       2, 2, 2, 2, 2, 2, 1, 2, 2, 2, 2, 2, 2, 2, 2, 1, 2, 2, 2, 4, 2, 2,\n",
              "       2, 2, 2, 2, 2, 2, 2, 2, 2, 2, 2, 2, 2, 2, 4, 2, 2, 2, 2, 5, 2, 2,\n",
              "       2, 2, 2, 2, 2, 2, 2, 2, 2, 2, 2, 2, 2, 2, 2, 2, 1, 2, 2, 2, 2, 2,\n",
              "       2, 2, 2, 2, 2, 2, 2, 2, 2, 2, 2, 2, 2, 2, 2, 2, 2, 2, 2, 4, 2, 2,\n",
              "       2, 2, 2, 2, 2, 2, 2, 2, 2, 2, 2, 2, 2, 2, 2, 2, 2, 2, 2, 2, 2, 2,\n",
              "       2, 2, 2, 2, 2, 2, 2, 2, 2, 2, 2, 4, 2, 2, 4, 2, 2, 2, 2, 2, 2, 2,\n",
              "       2, 2, 2, 2, 4, 2, 2, 2, 2, 2, 2, 2, 2, 2, 4, 2, 2, 2, 2, 2, 2, 2,\n",
              "       2, 2, 2, 2, 2, 2, 2, 2, 2, 2, 2, 2, 2, 2, 2, 2, 2, 2, 2, 2, 4, 2,\n",
              "       2, 2, 2, 2, 2, 4, 2, 2, 2, 2, 2, 2, 2, 2, 4, 2, 2, 4, 2, 2, 2, 2,\n",
              "       2, 2, 2, 4, 4, 2, 2, 2, 4, 2, 2, 2, 2, 2, 2, 2, 2, 4, 4, 2, 2, 2,\n",
              "       2, 2, 2, 2, 2, 2, 4, 2, 2, 2, 2, 2, 2, 2, 2, 2, 2, 2, 2, 2, 2, 2,\n",
              "       2, 2, 2, 2, 2, 2, 2, 2, 2, 2, 2, 2, 2, 2, 4, 2, 2, 2, 2, 2, 2, 4,\n",
              "       4, 2, 2, 2, 2, 5, 2, 2, 2, 2, 2, 2, 2, 4, 2, 2, 2, 2, 2, 4, 2, 2,\n",
              "       2, 2, 2, 1, 2, 4, 2, 4, 2, 2, 2, 1, 2, 2, 2, 2, 2, 2, 2, 2, 2, 2,\n",
              "       2, 2, 2, 2, 2, 2, 2, 2, 2, 2, 2, 2, 2, 2, 2, 2, 2, 2, 1, 2, 2, 2,\n",
              "       2, 2, 2, 2, 2, 2, 2, 2, 2, 2, 2, 2, 2, 2, 2, 2, 2, 2, 2, 2, 2, 2,\n",
              "       2, 2, 2, 2, 2, 2, 2, 2, 2, 2, 2, 2, 2, 2, 2, 2, 2, 2, 2, 2, 2, 2,\n",
              "       2, 2, 2, 2, 2, 2, 2, 2, 2, 2, 2, 2, 2, 2, 2, 1, 2, 2, 2, 2, 2, 2,\n",
              "       2, 4, 2, 2, 2, 2, 2, 2, 1, 2, 2, 2, 2, 2, 2, 2, 2, 2, 2, 2, 2, 2,\n",
              "       2, 4, 2, 2, 2, 2, 2, 2, 2, 2, 2, 4, 2, 2, 2, 2, 2, 4, 2, 2, 2, 2,\n",
              "       2, 2, 2, 2, 2, 2, 2, 2, 2, 2, 2, 2, 2, 2, 2, 2, 2, 2, 2, 2, 2, 2,\n",
              "       2, 2, 4, 2, 2, 2, 2, 2, 2, 1, 2, 2, 2, 2, 2, 2, 2, 2, 2, 1, 2, 2,\n",
              "       2, 2, 2, 2, 2, 2, 2, 2, 2, 2, 2, 2, 2, 2, 2, 2, 4, 2, 2, 2, 2, 2,\n",
              "       2, 2, 2, 2, 2, 2, 2, 2, 4, 2, 2, 4, 2, 4, 2, 2, 2, 2, 2, 2, 2, 2,\n",
              "       2, 2, 4, 2, 2, 2, 2, 2, 2, 1, 2, 2, 2, 2, 2, 2, 2, 2, 2, 2, 2, 2,\n",
              "       2, 2, 2, 2, 2, 2, 2, 2, 2, 2, 2, 1, 2, 2, 4, 2, 2, 2, 2, 2, 2, 2,\n",
              "       2, 2, 2, 2], dtype=int32)"
            ]
          },
          "metadata": {},
          "execution_count": 70
        }
      ],
      "source": [
        "kmeans_labels[y==0]"
      ]
    },
    {
      "cell_type": "markdown",
      "source": [
        "np.bincount gives the number of occurences of different labels in a predicted cluster. We can see that, cluster 0 in predictions is dominated by label 2 (Reinforcement Learning)."
      ],
      "metadata": {
        "id": "ImqM16vQMc9j"
      }
    },
    {
      "cell_type": "code",
      "execution_count": null,
      "metadata": {
        "id": "DrhEJmMMNbzj",
        "colab": {
          "base_uri": "https://localhost:8080/"
        },
        "outputId": "4fec4926-4948-4668-c330-bfac7eab499b"
      },
      "outputs": [
        {
          "output_type": "execute_result",
          "data": {
            "text/plain": [
              "array([  1,  15, 749,   0,  50,   3])"
            ]
          },
          "metadata": {},
          "execution_count": 71
        }
      ],
      "source": [
        "np.bincount(kmeans_labels[y==0])"
      ]
    },
    {
      "cell_type": "markdown",
      "source": [
        "Here, using the first for loop, we are appending bincount of all the clusters to an array named 'hungarian'. "
      ],
      "metadata": {
        "id": "SUmteWg9BNt-"
      }
    },
    {
      "cell_type": "markdown",
      "source": [
        "In cases where there is absence of labels '6', '5', '4', the bincount generates an array with length < 7. This leads to an error saying `ValueError: expected a matrix (2-D array), got a (7,) array` because linear_sum_assignment is expecting a 2-D array. In order to overcome this error, we are using a for loop to append a zero whenever the length of array < 7, resulting in a 2-D array. \n",
        "It is clear that this will not alter the cluster results since the absence of value is direct result of 0 occurences."
      ],
      "metadata": {
        "id": "nQ9txXwuQgpu"
      }
    },
    {
      "cell_type": "markdown",
      "source": [
        "Hungarian algorithm is used to find the minimum value and is most commonly used when you want to assign tasks to people based on minimum cost. But here, it works as a computational optimization technique by addressing the assignment problem. The assignment problem we are referring to here is, when two or more clusters are favoring same labels (classes). "
      ],
      "metadata": {
        "id": "GCjUoYuYQpb5"
      }
    },
    {
      "cell_type": "markdown",
      "source": [
        "We use linear_sum_assignment from scipy.optimize module and set the parameter `maximize = True` in order to select clusters based on maximum occurrences of labels and effectively map them to the subject classes. "
      ],
      "metadata": {
        "id": "rVjA9iRZR73H"
      }
    },
    {
      "cell_type": "code",
      "execution_count": null,
      "metadata": {
        "id": "Z8QQFfFCd7sD"
      },
      "outputs": [],
      "source": [
        "hungarian = []\n",
        "for k in range(7):\n",
        "    hungarian.append(np.bincount(kmeans_labels[y==k]))\n",
        "for i in range(len(hungarian)):\n",
        "  n = 7 - hungarian[i].size\n",
        "  while(n!=0):\n",
        "    hungarian[i] = np.append(hungarian[i], 0) \n",
        "    n-=1\n",
        "# hungarian\n",
        "_, hg_mapping = linear_sum_assignment(hungarian, maximize=True)"
      ]
    },
    {
      "cell_type": "markdown",
      "source": [
        "We are using inbuilt methods (accuracy_score, adjusted_rand_index, and normalized_mutual_info_score) from sklearn.metrics module to evaluate our model."
      ],
      "metadata": {
        "id": "rIvGTS2UOgYO"
      }
    },
    {
      "cell_type": "code",
      "source": [
        "acc = acc([hg_mapping[i] for i in y], kmeans_pca.labels_)"
      ],
      "metadata": {
        "id": "y6C144REfyVy"
      },
      "execution_count": null,
      "outputs": []
    },
    {
      "cell_type": "code",
      "execution_count": null,
      "metadata": {
        "id": "2yRqXZMkfqnp",
        "colab": {
          "base_uri": "https://localhost:8080/"
        },
        "outputId": "3c88204a-669c-40ae-a114-9e805f456379"
      },
      "outputs": [
        {
          "output_type": "stream",
          "name": "stdout",
          "text": [
            "ACC: 0.452\n",
            "NMI: 0.202\n",
            "ARI: 0.131\n"
          ]
        }
      ],
      "source": [
        "print(f'ACC: {(acc):.3f}')\n",
        "for m, m_name in [(nmi, 'NMI'), (ari, 'ARI')]:\n",
        "    print(f'{m_name}: {m(y, kmeans_labels):.3f}')"
      ]
    },
    {
      "cell_type": "markdown",
      "source": [
        "We can use t-SNE (t-distributed Stochastic Neighbor Embedding) from sklearn.manifold module or PCA (Principal Component Analysis) from sklearn.decomposition module for visualization of our Kmeans clustering. "
      ],
      "metadata": {
        "id": "by5qRPUuED4W"
      }
    },
    {
      "cell_type": "markdown",
      "source": [
        "t-SNE is a tool for visualizing high-dimensional data using unsupervised learning techniques. t-SNE reduces the dimensionality of data by preserving the relationship between the samples."
      ],
      "metadata": {
        "id": "rqM0poUCEqo8"
      }
    },
    {
      "cell_type": "code",
      "source": [
        "# transform = PCA\n",
        "transform = TSNE\n",
        "trans = transform(n_components = 2)\n",
        "reduced_pca_scores = trans.fit_transform(scores_pca)\n",
        "reduced_pca_scores"
      ],
      "metadata": {
        "colab": {
          "base_uri": "https://localhost:8080/"
        },
        "id": "eM46_ZYGpB68",
        "outputId": "ec9bf8df-4e27-4c6d-ad9c-8c03548ec240"
      },
      "execution_count": null,
      "outputs": [
        {
          "output_type": "stream",
          "name": "stderr",
          "text": [
            "/usr/local/lib/python3.7/dist-packages/sklearn/manifold/_t_sne.py:783: FutureWarning: The default initialization in TSNE will change from 'random' to 'pca' in 1.2.\n",
            "  FutureWarning,\n",
            "/usr/local/lib/python3.7/dist-packages/sklearn/manifold/_t_sne.py:793: FutureWarning: The default learning rate in TSNE will change from 200.0 to 'auto' in 1.2.\n",
            "  FutureWarning,\n"
          ]
        },
        {
          "output_type": "execute_result",
          "data": {
            "text/plain": [
              "array([[ 20.156536 ,   7.076068 ],\n",
              "       [-30.564713 ,  15.804856 ],\n",
              "       [ 32.487915 ,   9.667063 ],\n",
              "       ...,\n",
              "       [ -0.8010216, -11.874269 ],\n",
              "       [-17.305481 ,  19.556034 ],\n",
              "       [-26.790018 ,   3.8482337]], dtype=float32)"
            ]
          },
          "metadata": {},
          "execution_count": 75
        }
      ]
    },
    {
      "cell_type": "code",
      "source": [
        "keys = [k for k, v in y_mapping.items()]\n",
        "unique_label = np.unique(kmeans_labels)\n",
        "sc = plt.figure(figsize = (15,15))\n",
        "for i in unique_label:\n",
        "  plt.scatter(reduced_pca_scores[y==i, 0], reduced_pca_scores[y==i, 1], label = f\"{keys[i]} - {i}\")\n",
        "plt.title(f\"{transform.__name__} visualization of KMeans embeddings for Cora dataset\")\n",
        "plt.legend()\n",
        "plt.show()"
      ],
      "metadata": {
        "colab": {
          "base_uri": "https://localhost:8080/",
          "height": 879
        },
        "id": "Mn3jVzVqr3Fl",
        "outputId": "e8bf78ca-9b83-43b9-f4fd-0b0f656cbcad"
      },
      "execution_count": null,
      "outputs": [
        {
          "output_type": "display_data",
          "data": {
            "text/plain": [
              "<Figure size 1080x1080 with 1 Axes>"
            ],
            "image/png": "[encoded data removed]"
          },
          "metadata": {
            "needs_background": "light"
          }
        }
      ]
    }
  ],
  "metadata": {
    "colab": {
      "provenance": [],
      "include_colab_link": true
    },
    "kernelspec": {
      "display_name": "Python 3",
      "name": "python3"
    },
    "language_info": {
      "name": "python"
    }
  },
  "nbformat": 4,
  "nbformat_minor": 0
}